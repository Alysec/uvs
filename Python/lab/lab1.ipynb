{
 "cells": [
  {
   "cell_type": "code",
   "execution_count": null,
   "metadata": {},
   "outputs": [],
   "source": [
    "# Exo 1: Calculer et afficher le carré de nombre demandé à USER\n",
    "print('Donnez un nombre: ', end='')\n",
    "a=int(input())\n",
    "print(f\"le carre de {a} est {a*a}\")\n"
   ]
  },
  {
   "cell_type": "code",
   "execution_count": null,
   "metadata": {},
   "outputs": [],
   "source": [
    "# Exo2: Informer si le produit est poitif, négatif ou nul, sans le calculer\n",
    "print('Donne moi premier entier : ', end='')\n",
    "a = int(input())\n",
    "print('Donne moi deuxième entier : ', end='')\n",
    "b = int(input())\n",
    "if (a<0 and  b <0) or (a>0 and  b >0):\n",
    "    print('Le produit est positif')\n",
    "elif (a==0 or b==0):\n",
    "    print('Le produit est nul')\n",
    "else:\n",
    "    print('Le produit est positif')\n"
   ]
  },
  {
   "cell_type": "code",
   "execution_count": null,
   "metadata": {},
   "outputs": [],
   "source": [
    "# Exo3: Trouver une valeur choisie aléatoirement par le programme\n",
    "from random import randint\n",
    "\n",
    "c = 0\n",
    "i = 0\n",
    "r = randint(1, 10)\n",
    "\n",
    "while c != r and i < 6:\n",
    "    print('Donne moi une valeur : ', end='')\n",
    "    c = int(input())\n",
    "    if c < r:\n",
    "        print('C\\'est pas assez !')\n",
    "    elif c > r:\n",
    "        print('C\\'est trop !')\n",
    "    i += 1\n",
    "\n",
    "if c == r:\n",
    "    print('Gagné !')\n",
    "else:\n",
    "    print('Perdu !')\n"
   ]
  },
  {
   "cell_type": "code",
   "execution_count": null,
   "metadata": {},
   "outputs": [],
   "source": [
    "# Exo4: Effectuer la permutation de trois variables\n",
    "\n",
    "def permuter(foo,bar,buz):\n",
    "    foo,bar,buz=buz,foo,bar\n",
    "    return foo, bar,buz\n",
    "\n",
    "def main():\n",
    "    print(\"main\")\n",
    "    foo=1\n",
    "    bar=2\n",
    "    buz=3\n",
    "    print (foo,bar,buz)\n",
    "    foo,bar,buz=permuter(foo,bar,buz)\n",
    "    print (foo,bar,buz)\n",
    "-main()"
   ]
  },
  {
   "cell_type": "code",
   "execution_count": 47,
   "metadata": {},
   "outputs": [],
   "source": [
    "# Exo 6: Définition d'une classe Personne\n",
    "class Personne: \n",
    "    def initialiser(self, nom,prenom,age):\n",
    "        self.nom=nom\n",
    "        self.prenom=prenom\n",
    "        self.age=age\n",
    "\n",
    "    def get_name(self):\n",
    "        return self.nom\n",
    "\n",
    "    def set_age(self,new_age):\n",
    "        self.age=new_age"
   ]
  },
  {
   "cell_type": "code",
   "execution_count": 48,
   "metadata": {},
   "outputs": [],
   "source": [
    "pers= Personne()\n",
    "pers.initialiser(\"SECK\",\"Aly\",30)"
   ]
  },
  {
   "cell_type": "code",
   "execution_count": 49,
   "metadata": {},
   "outputs": [
    {
     "name": "stdout",
     "output_type": "stream",
     "text": [
      "Mon nom est SECK \n"
     ]
    }
   ],
   "source": [
    "vars(pers)\n",
    "nom=pers.get_name()\n",
    "print(f\"Mon nom est {nom} \")"
   ]
  }
 ],
 "metadata": {
  "kernelspec": {
   "display_name": "Python 3.10.5 64-bit (windows store)",
   "language": "python",
   "name": "python3"
  },
  "language_info": {
   "codemirror_mode": {
    "name": "ipython",
    "version": 3
   },
   "file_extension": ".py",
   "mimetype": "text/x-python",
   "name": "python",
   "nbconvert_exporter": "python",
   "pygments_lexer": "ipython3",
   "version": "3.10.5"
  },
  "orig_nbformat": 4,
  "vscode": {
   "interpreter": {
    "hash": "9e35676d33e03a9093a17dc7760f2b2aa4960ff6d3c0d7dc06348afdc0ca22c8"
   }
  }
 },
 "nbformat": 4,
 "nbformat_minor": 2
}
